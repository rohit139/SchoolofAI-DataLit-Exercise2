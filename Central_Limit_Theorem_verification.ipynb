{
  "nbformat": 4,
  "nbformat_minor": 0,
  "metadata": {
    "colab": {
      "name": "Central Limit Theorem verification.ipynb",
      "version": "0.3.2",
      "provenance": [],
      "include_colab_link": true
    },
    "kernelspec": {
      "name": "python3",
      "display_name": "Python 3"
    }
  },
  "cells": [
    {
      "cell_type": "markdown",
      "metadata": {
        "id": "view-in-github",
        "colab_type": "text"
      },
      "source": [
        "<a href=\"https://colab.research.google.com/github/rohit139/SchoolofAI-DataLit-Practice/blob/master/Central_Limit_Theorem_verification.ipynb\" target=\"_parent\"><img src=\"https://colab.research.google.com/assets/colab-badge.svg\" alt=\"Open In Colab\"/></a>"
      ]
    },
    {
      "metadata": {
        "id": "oEJVbxO3NUal",
        "colab_type": "code",
        "colab": {}
      },
      "cell_type": "code",
      "source": [
        "import pandas as pd\n",
        "import matplotlib.pyplot as plt\n",
        "import seaborn as sna"
      ],
      "execution_count": 0,
      "outputs": []
    },
    {
      "metadata": {
        "id": "C5pUgSKXNuzQ",
        "colab_type": "code",
        "colab": {
          "base_uri": "https://localhost:8080/",
          "height": 204
        },
        "outputId": "3bb68b3a-41a8-49db-f426-b992c7bfbcd4"
      },
      "cell_type": "code",
      "source": [
        "\n",
        "url ='https://media.githubusercontent.com/media/WillKoehrsen/Data-Analysis/master/univariate_dist/data/formatted_flights.csv'\n",
        "flight_data=pd.read_csv(url)\n",
        "flight_data.head(5)"
      ],
      "execution_count": 2,
      "outputs": [
        {
          "output_type": "execute_result",
          "data": {
            "text/html": [
              "<div>\n",
              "<style scoped>\n",
              "    .dataframe tbody tr th:only-of-type {\n",
              "        vertical-align: middle;\n",
              "    }\n",
              "\n",
              "    .dataframe tbody tr th {\n",
              "        vertical-align: top;\n",
              "    }\n",
              "\n",
              "    .dataframe thead th {\n",
              "        text-align: right;\n",
              "    }\n",
              "</style>\n",
              "<table border=\"1\" class=\"dataframe\">\n",
              "  <thead>\n",
              "    <tr style=\"text-align: right;\">\n",
              "      <th></th>\n",
              "      <th>Unnamed: 0</th>\n",
              "      <th>arr_delay</th>\n",
              "      <th>name</th>\n",
              "    </tr>\n",
              "  </thead>\n",
              "  <tbody>\n",
              "    <tr>\n",
              "      <th>0</th>\n",
              "      <td>0</td>\n",
              "      <td>11.0</td>\n",
              "      <td>United Air Lines Inc.</td>\n",
              "    </tr>\n",
              "    <tr>\n",
              "      <th>1</th>\n",
              "      <td>1</td>\n",
              "      <td>20.0</td>\n",
              "      <td>United Air Lines Inc.</td>\n",
              "    </tr>\n",
              "    <tr>\n",
              "      <th>2</th>\n",
              "      <td>2</td>\n",
              "      <td>33.0</td>\n",
              "      <td>American Airlines Inc.</td>\n",
              "    </tr>\n",
              "    <tr>\n",
              "      <th>3</th>\n",
              "      <td>3</td>\n",
              "      <td>-18.0</td>\n",
              "      <td>JetBlue Airways</td>\n",
              "    </tr>\n",
              "    <tr>\n",
              "      <th>4</th>\n",
              "      <td>4</td>\n",
              "      <td>-25.0</td>\n",
              "      <td>Delta Air Lines Inc.</td>\n",
              "    </tr>\n",
              "  </tbody>\n",
              "</table>\n",
              "</div>"
            ],
            "text/plain": [
              "   Unnamed: 0  arr_delay                    name\n",
              "0           0       11.0   United Air Lines Inc.\n",
              "1           1       20.0   United Air Lines Inc.\n",
              "2           2       33.0  American Airlines Inc.\n",
              "3           3      -18.0         JetBlue Airways\n",
              "4           4      -25.0    Delta Air Lines Inc."
            ]
          },
          "metadata": {
            "tags": []
          },
          "execution_count": 2
        }
      ]
    },
    {
      "metadata": {
        "id": "xueEtMZVN4p5",
        "colab_type": "code",
        "colab": {
          "base_uri": "https://localhost:8080/",
          "height": 170
        },
        "outputId": "57329260-1209-48c9-d1c4-9e6e0323357a"
      },
      "cell_type": "code",
      "source": [
        "flight_data['arr_delay'].describe()"
      ],
      "execution_count": 4,
      "outputs": [
        {
          "output_type": "execute_result",
          "data": {
            "text/plain": [
              "count    317113.000000\n",
              "mean          1.297143\n",
              "std          29.064401\n",
              "min         -60.000000\n",
              "25%         -17.000000\n",
              "50%          -6.000000\n",
              "75%          11.000000\n",
              "max         120.000000\n",
              "Name: arr_delay, dtype: float64"
            ]
          },
          "metadata": {
            "tags": []
          },
          "execution_count": 4
        }
      ]
    },
    {
      "metadata": {
        "id": "xNkpvgc4S_L2",
        "colab_type": "text"
      },
      "cell_type": "markdown",
      "source": [
        "**Homework Part 2**\n",
        "\n",
        "Demonstrate the Central Limit Theorem\n",
        "\n",
        "1. The sampling distribution of the mean will be less spread than the values in the population from which the sample is drawn\n",
        "\n",
        "2. The sampling distribution will be well-modeled by a normal distribution (and it will get closer with larger sample sizes)\n",
        "\n",
        "3. The spread of the sampling distribution is related to the spread of the population values\n",
        "\n",
        "4. Bigger samples lead to a smaller spread in the sampling distribution"
      ]
    },
    {
      "metadata": {
        "id": "-faiQXMwN4vn",
        "colab_type": "code",
        "colab": {}
      },
      "cell_type": "code",
      "source": [
        "delay_mean=flight_data.arr_delay.mean()\n",
        "delay_std=flight_data.arr_delay.std()"
      ],
      "execution_count": 0,
      "outputs": []
    },
    {
      "metadata": {
        "id": "tTw4G-SuN4yR",
        "colab_type": "code",
        "colab": {
          "base_uri": "https://localhost:8080/",
          "height": 34
        },
        "outputId": "faf558e5-f049-42d7-8f19-07d471916472"
      },
      "cell_type": "code",
      "source": [
        "delay_mean"
      ],
      "execution_count": 6,
      "outputs": [
        {
          "output_type": "execute_result",
          "data": {
            "text/plain": [
              "1.2971432896160044"
            ]
          },
          "metadata": {
            "tags": []
          },
          "execution_count": 6
        }
      ]
    },
    {
      "metadata": {
        "id": "5-YxPU7rN43Z",
        "colab_type": "code",
        "colab": {
          "base_uri": "https://localhost:8080/",
          "height": 34
        },
        "outputId": "41a42b48-1da3-41cd-8e26-92f5e203124a"
      },
      "cell_type": "code",
      "source": [
        "delay_std"
      ],
      "execution_count": 7,
      "outputs": [
        {
          "output_type": "execute_result",
          "data": {
            "text/plain": [
              "29.064401023259187"
            ]
          },
          "metadata": {
            "tags": []
          },
          "execution_count": 7
        }
      ]
    },
    {
      "metadata": {
        "id": "bGnSOHAWN46P",
        "colab_type": "code",
        "colab": {
          "base_uri": "https://localhost:8080/",
          "height": 204
        },
        "outputId": "fb1b13ae-22be-4d4f-e7c6-72c1266d3314"
      },
      "cell_type": "code",
      "source": [
        "flight_delay=flight_data['arr_delay']\n",
        "flight_delay.head(10)"
      ],
      "execution_count": 8,
      "outputs": [
        {
          "output_type": "execute_result",
          "data": {
            "text/plain": [
              "0    11.0\n",
              "1    20.0\n",
              "2    33.0\n",
              "3   -18.0\n",
              "4   -25.0\n",
              "5    12.0\n",
              "6    19.0\n",
              "7   -14.0\n",
              "8    -8.0\n",
              "9     8.0\n",
              "Name: arr_delay, dtype: float64"
            ]
          },
          "metadata": {
            "tags": []
          },
          "execution_count": 8
        }
      ]
    },
    {
      "metadata": {
        "id": "2t6Gq_fDN41E",
        "colab_type": "code",
        "colab": {
          "base_uri": "https://localhost:8080/",
          "height": 34
        },
        "outputId": "2718c889-f672-428f-d504-47d615c2bd49"
      },
      "cell_type": "code",
      "source": [
        "delay_subset10=flight_delay.sample(n=10)\n",
        "delay10_mean=delay_subset10.mean()\n",
        "delay10_std=delay_subset10.std()\n",
        "\n",
        "print(\"for 10 sample: Mean= \",delay10_mean,\"; STD=\",delay10_std )"
      ],
      "execution_count": 15,
      "outputs": [
        {
          "output_type": "stream",
          "text": [
            "for 10 sample: Mean=  10.4 ; STD= 40.15580766077167\n"
          ],
          "name": "stdout"
        }
      ]
    },
    {
      "metadata": {
        "id": "I0airYEDXw36",
        "colab_type": "code",
        "colab": {
          "base_uri": "https://localhost:8080/",
          "height": 34
        },
        "outputId": "8dd99d00-2a60-4539-8b6f-c9b90ea1d61a"
      },
      "cell_type": "code",
      "source": [
        "delay_subset100=flight_delay.sample(n=100)\n",
        "delay100_mean=delay_subset100.mean()\n",
        "delay100_std=delay_subset100.std()\n",
        "\n",
        "print(\"for 100 sample: Mean= \",delay100_mean,\"; STD=\",delay100_std )"
      ],
      "execution_count": 17,
      "outputs": [
        {
          "output_type": "stream",
          "text": [
            "for 100 sample: Mean=  -5.39 ; STD= 18.671479357944335\n"
          ],
          "name": "stdout"
        }
      ]
    },
    {
      "metadata": {
        "id": "lkPKwTUnYgY6",
        "colab_type": "code",
        "colab": {
          "base_uri": "https://localhost:8080/",
          "height": 34
        },
        "outputId": "6c420d2c-fa33-49fc-aab8-041d9f3c40c9"
      },
      "cell_type": "code",
      "source": [
        "delay_subset1000=flight_delay.sample(n=1000)\n",
        "delay1000_mean=delay_subset1000.mean()\n",
        "delay1000_std=delay_subset1000.std()\n",
        "\n",
        "print(\"for 1000 sample: Mean= \",delay1000_mean,\"; STD=\",delay1000_std )"
      ],
      "execution_count": 20,
      "outputs": [
        {
          "output_type": "stream",
          "text": [
            "for 1000 sample: Mean=  1.398 ; STD= 28.57691789252712\n"
          ],
          "name": "stdout"
        }
      ]
    },
    {
      "metadata": {
        "id": "AYsABwWbY-Jj",
        "colab_type": "code",
        "colab": {
          "base_uri": "https://localhost:8080/",
          "height": 34
        },
        "outputId": "2384f383-acf0-4c7d-d0fc-a0cbf800d65e"
      },
      "cell_type": "code",
      "source": [
        "delay_subset10000=flight_delay.sample(n=10000)\n",
        "delay10000_mean=delay_subset10000.mean()\n",
        "delay10000_std=delay_subset10000.std()\n",
        "\n",
        "print(\"for 10000 sample: Mean= \",delay10000_mean,\"; STD=\",delay10000_std )"
      ],
      "execution_count": 26,
      "outputs": [
        {
          "output_type": "stream",
          "text": [
            "for 10000 sample: Mean=  1.1382 ; STD= 28.78128796655382\n"
          ],
          "name": "stdout"
        }
      ]
    },
    {
      "metadata": {
        "id": "81KbzWUoY-Mo",
        "colab_type": "code",
        "colab": {
          "base_uri": "https://localhost:8080/",
          "height": 34
        },
        "outputId": "bbad732c-4b20-4bb6-c07f-ca0921e4d56b"
      },
      "cell_type": "code",
      "source": [
        "delay_subset50000=flight_delay.sample(n=50000)\n",
        "delay50000_mean=delay_subset50000.mean()\n",
        "delay50000_std=delay_subset50000.std()\n",
        "\n",
        "print(\"for 50000 sample: Mean= \",delay50000_mean,\"; STD=\",delay50000_std )"
      ],
      "execution_count": 33,
      "outputs": [
        {
          "output_type": "stream",
          "text": [
            "for 50000 sample: Mean=  1.3378 ; STD= 29.052317152038867\n"
          ],
          "name": "stdout"
        }
      ]
    },
    {
      "metadata": {
        "id": "MKYurKOQY-PE",
        "colab_type": "code",
        "colab": {}
      },
      "cell_type": "code",
      "source": [
        ""
      ],
      "execution_count": 0,
      "outputs": []
    },
    {
      "metadata": {
        "id": "JA1W6xJfY-Rf",
        "colab_type": "code",
        "colab": {}
      },
      "cell_type": "code",
      "source": [
        ""
      ],
      "execution_count": 0,
      "outputs": []
    },
    {
      "metadata": {
        "id": "9GkHvv7jY-T7",
        "colab_type": "code",
        "colab": {}
      },
      "cell_type": "code",
      "source": [
        ""
      ],
      "execution_count": 0,
      "outputs": []
    },
    {
      "metadata": {
        "id": "hJsXSRynY-Ws",
        "colab_type": "code",
        "colab": {}
      },
      "cell_type": "code",
      "source": [
        ""
      ],
      "execution_count": 0,
      "outputs": []
    },
    {
      "metadata": {
        "id": "OWX_kyNRY-ZH",
        "colab_type": "code",
        "colab": {}
      },
      "cell_type": "code",
      "source": [
        ""
      ],
      "execution_count": 0,
      "outputs": []
    },
    {
      "metadata": {
        "id": "zB1b94mmY-bu",
        "colab_type": "code",
        "colab": {}
      },
      "cell_type": "code",
      "source": [
        ""
      ],
      "execution_count": 0,
      "outputs": []
    },
    {
      "metadata": {
        "id": "Luan6GNgY-eY",
        "colab_type": "code",
        "colab": {}
      },
      "cell_type": "code",
      "source": [
        ""
      ],
      "execution_count": 0,
      "outputs": []
    }
  ]
}